{
 "cells": [
  {
   "cell_type": "markdown",
   "metadata": {},
   "source": [
    "Trial function: total function with 5 parameters and dependence  in all three hyperspherical coordinates"
   ]
  },
  {
   "cell_type": "code",
   "execution_count": 7,
   "metadata": {},
   "outputs": [
    {
     "name": "stdout",
     "output_type": "stream",
     "text": [
      "Integral Mínima: 1.3199487071829222e-11\n",
      "Alpha Correspondiente: 10.0\n",
      "Beta Correspondiente: 1.2000000000000002\n",
      "Gamma Correspondiente: -1.1111111111111107\n",
      "Epsilon Correspondiente: -1.1111111111111107\n"
     ]
    }
   ],
   "source": [
    "import numpy as np\n",
    "from scipy import integrate\n",
    "from scipy.optimize import minimize\n",
    "\n",
    "def G(x, y, z, alpha, beta, gamma, epsilon):\n",
    "    # Define tu función G(x, y, z, alpha, beta, gamma, epsilon) aquí\n",
    "    # Por ejemplo: return alpha * x + beta * y + gamma * z + epsilon\n",
    "    # Modifica esto según tu función real.\n",
    "\n",
    "    return np.exp(-alpha * x) * (math.cos(y-beta)+math.cos(beta)+gamma) * (math.sin(z)+epsilon)*((-np.exp(-alpha * x) * (math.cos(y-beta)+math.cos(beta)+gamma) * (math.sin(z)+epsilon))*(1/(8 * x **2))+(1/x)*(np.exp(-alpha * x) * (math.cos(y-beta)+math.cos(beta)+gamma) * (math.sin(z)+epsilon)))\n",
    "\n",
    "def triple_integral(alpha_values, beta_values, gamma_values, epsilon_values):\n",
    "    min_integral = float('inf')\n",
    "    min_alpha = None\n",
    "    min_beta = None\n",
    "    min_gamma = None\n",
    "    min_epsilon = None\n",
    "\n",
    "    for alpha in alpha_values:\n",
    "        for beta in beta_values:\n",
    "            for gamma in gamma_values:\n",
    "                for epsilon in epsilon_values:\n",
    "                    # Define el integrando como una función de x, y, z\n",
    "                    integrand = lambda x, y, z: G(x, y, z, alpha, beta, gamma, epsilon)**2 * x**5 * (1/8) * (math.cos(y/2)*math.sin(y/2))**2\n",
    "\n",
    "                    # Realiza la integral triple\n",
    "                    integral, _ = integrate.nquad(integrand, [[0, 1], [0, 1], [0, 1]])\n",
    "\n",
    "                    # Actualiza el mínimo si se encuentra una integral más pequeña\n",
    "                    if integral < min_integral:\n",
    "                        min_integral = integral\n",
    "                        min_alpha = alpha\n",
    "                        min_beta = beta\n",
    "                        min_gamma = gamma\n",
    "                        min_epsilon = epsilon\n",
    "\n",
    "    return min_alpha, min_beta, min_gamma, min_epsilon, min_integral\n",
    "\n",
    "# Define arrays of alpha, beta, gamma, and epsilon values\n",
    "alpha_values = np.linspace(0.1, 10.0, 20)\n",
    "beta_values = np.linspace(0.1, 10.0, 10)\n",
    "gamma_values = np.linspace(-10.0, 10.0, 10)\n",
    "epsilon_values = np.linspace(-10.0, 10.0, 10)\n",
    "\n",
    "# Calcula la integral triple mínima y los valores correspondientes de alpha, beta, gamma, y epsilon\n",
    "min_alpha, min_beta, min_gamma, min_epsilon, min_integral = triple_integral(alpha_values, beta_values, gamma_values, epsilon_values)\n",
    "\n",
    "print(\"Integral Mínima:\", min_integral)\n",
    "print(\"Alpha Correspondiente:\", min_alpha)\n",
    "print(\"Beta Correspondiente:\", min_beta)\n",
    "print(\"Gamma Correspondiente:\", min_gamma)\n",
    "print(\"Epsilon Correspondiente:\", min_epsilon)\n"
   ]
  },
  {
   "cell_type": "code",
   "execution_count": 2,
   "metadata": {},
   "outputs": [
    {
     "ename": "KeyboardInterrupt",
     "evalue": "",
     "output_type": "error",
     "traceback": [
      "\u001b[0;31m---------------------------------------------------------------------------\u001b[0m",
      "\u001b[0;31mKeyboardInterrupt\u001b[0m                         Traceback (most recent call last)",
      "\u001b[1;32m/Users/nataliamunoz/Desktop/trial-hypcoord/Untitled-1.ipynb Cell 3\u001b[0m line \u001b[0;36m4\n\u001b[1;32m     <a href='vscode-notebook-cell:/Users/nataliamunoz/Desktop/trial-hypcoord/Untitled-1.ipynb#W2sZmlsZQ%3D%3D?line=43'>44</a>\u001b[0m epsilon_values \u001b[39m=\u001b[39m np\u001b[39m.\u001b[39mlinspace(\u001b[39m-\u001b[39m\u001b[39m10.0\u001b[39m, \u001b[39m10.0\u001b[39m, \u001b[39m20\u001b[39m)\n\u001b[1;32m     <a href='vscode-notebook-cell:/Users/nataliamunoz/Desktop/trial-hypcoord/Untitled-1.ipynb#W2sZmlsZQ%3D%3D?line=45'>46</a>\u001b[0m \u001b[39m# Calcula la integral triple mínima y los valores correspondientes de alpha, beta, gamma, y epsilon\u001b[39;00m\n\u001b[0;32m---> <a href='vscode-notebook-cell:/Users/nataliamunoz/Desktop/trial-hypcoord/Untitled-1.ipynb#W2sZmlsZQ%3D%3D?line=46'>47</a>\u001b[0m min_alpha, min_beta, min_gamma, min_epsilon, min_integral \u001b[39m=\u001b[39m triple_integral(alpha_values, beta_values, gamma_values, epsilon_values)\n\u001b[1;32m     <a href='vscode-notebook-cell:/Users/nataliamunoz/Desktop/trial-hypcoord/Untitled-1.ipynb#W2sZmlsZQ%3D%3D?line=48'>49</a>\u001b[0m \u001b[39mprint\u001b[39m(\u001b[39m\"\u001b[39m\u001b[39mIntegral Mínima:\u001b[39m\u001b[39m\"\u001b[39m, min_integral)\n\u001b[1;32m     <a href='vscode-notebook-cell:/Users/nataliamunoz/Desktop/trial-hypcoord/Untitled-1.ipynb#W2sZmlsZQ%3D%3D?line=49'>50</a>\u001b[0m \u001b[39mprint\u001b[39m(\u001b[39m\"\u001b[39m\u001b[39mAlpha Correspondiente:\u001b[39m\u001b[39m\"\u001b[39m, min_alpha)\n",
      "\u001b[1;32m/Users/nataliamunoz/Desktop/trial-hypcoord/Untitled-1.ipynb Cell 3\u001b[0m line \u001b[0;36m2\n\u001b[1;32m     <a href='vscode-notebook-cell:/Users/nataliamunoz/Desktop/trial-hypcoord/Untitled-1.ipynb#W2sZmlsZQ%3D%3D?line=24'>25</a>\u001b[0m integrand \u001b[39m=\u001b[39m \u001b[39mlambda\u001b[39;00m x, y, z: H(x, y, z, alpha, beta, gamma, epsilon) \u001b[39m*\u001b[39m x\u001b[39m*\u001b[39m\u001b[39m*\u001b[39m\u001b[39m5\u001b[39m \u001b[39m*\u001b[39m (\u001b[39m1\u001b[39m\u001b[39m/\u001b[39m\u001b[39m8\u001b[39m) \u001b[39m*\u001b[39m (math\u001b[39m.\u001b[39mcos(y\u001b[39m/\u001b[39m\u001b[39m2\u001b[39m)\u001b[39m*\u001b[39mmath\u001b[39m.\u001b[39msin(y\u001b[39m/\u001b[39m\u001b[39m2\u001b[39m))\u001b[39m*\u001b[39m\u001b[39m*\u001b[39m\u001b[39m2\u001b[39m\n\u001b[1;32m     <a href='vscode-notebook-cell:/Users/nataliamunoz/Desktop/trial-hypcoord/Untitled-1.ipynb#W2sZmlsZQ%3D%3D?line=26'>27</a>\u001b[0m \u001b[39m# Realiza la integral triple\u001b[39;00m\n\u001b[0;32m---> <a href='vscode-notebook-cell:/Users/nataliamunoz/Desktop/trial-hypcoord/Untitled-1.ipynb#W2sZmlsZQ%3D%3D?line=27'>28</a>\u001b[0m integral, _ \u001b[39m=\u001b[39m integrate\u001b[39m.\u001b[39;49mnquad(integrand, [[\u001b[39m0\u001b[39;49m, \u001b[39m1\u001b[39;49m], [\u001b[39m0\u001b[39;49m, \u001b[39m1\u001b[39;49m], [\u001b[39m0\u001b[39;49m, \u001b[39m1\u001b[39;49m]])\n\u001b[1;32m     <a href='vscode-notebook-cell:/Users/nataliamunoz/Desktop/trial-hypcoord/Untitled-1.ipynb#W2sZmlsZQ%3D%3D?line=29'>30</a>\u001b[0m \u001b[39m# Actualiza el mínimo si se encuentra una integral más pequeña\u001b[39;00m\n\u001b[1;32m     <a href='vscode-notebook-cell:/Users/nataliamunoz/Desktop/trial-hypcoord/Untitled-1.ipynb#W2sZmlsZQ%3D%3D?line=30'>31</a>\u001b[0m \u001b[39mif\u001b[39;00m integral \u001b[39m<\u001b[39m min_integral:\n",
      "File \u001b[0;32m/Library/Frameworks/Python.framework/Versions/3.9/lib/python3.9/site-packages/scipy/integrate/_quadpack_py.py:1171\u001b[0m, in \u001b[0;36mnquad\u001b[0;34m(func, ranges, args, opts, full_output)\u001b[0m\n\u001b[1;32m   1169\u001b[0m \u001b[39melse\u001b[39;00m:\n\u001b[1;32m   1170\u001b[0m     opts \u001b[39m=\u001b[39m [opt \u001b[39mif\u001b[39;00m \u001b[39mcallable\u001b[39m(opt) \u001b[39melse\u001b[39;00m _OptFunc(opt) \u001b[39mfor\u001b[39;00m opt \u001b[39min\u001b[39;00m opts]\n\u001b[0;32m-> 1171\u001b[0m \u001b[39mreturn\u001b[39;00m _NQuad(func, ranges, opts, full_output)\u001b[39m.\u001b[39;49mintegrate(\u001b[39m*\u001b[39;49margs)\n",
      "File \u001b[0;32m/Library/Frameworks/Python.framework/Versions/3.9/lib/python3.9/site-packages/scipy/integrate/_quadpack_py.py:1225\u001b[0m, in \u001b[0;36m_NQuad.integrate\u001b[0;34m(self, *args, **kwargs)\u001b[0m\n\u001b[1;32m   1223\u001b[0m \u001b[39melse\u001b[39;00m:\n\u001b[1;32m   1224\u001b[0m     f \u001b[39m=\u001b[39m partial(\u001b[39mself\u001b[39m\u001b[39m.\u001b[39mintegrate, depth\u001b[39m=\u001b[39mdepth\u001b[39m+\u001b[39m\u001b[39m1\u001b[39m)\n\u001b[0;32m-> 1225\u001b[0m quad_r \u001b[39m=\u001b[39m quad(f, low, high, args\u001b[39m=\u001b[39;49margs, full_output\u001b[39m=\u001b[39;49m\u001b[39mself\u001b[39;49m\u001b[39m.\u001b[39;49mfull_output,\n\u001b[1;32m   1226\u001b[0m               \u001b[39m*\u001b[39;49m\u001b[39m*\u001b[39;49mopt)\n\u001b[1;32m   1227\u001b[0m value \u001b[39m=\u001b[39m quad_r[\u001b[39m0\u001b[39m]\n\u001b[1;32m   1228\u001b[0m abserr \u001b[39m=\u001b[39m quad_r[\u001b[39m1\u001b[39m]\n",
      "File \u001b[0;32m/Library/Frameworks/Python.framework/Versions/3.9/lib/python3.9/site-packages/scipy/integrate/_quadpack_py.py:463\u001b[0m, in \u001b[0;36mquad\u001b[0;34m(func, a, b, args, full_output, epsabs, epsrel, limit, points, weight, wvar, wopts, maxp1, limlst, complex_func)\u001b[0m\n\u001b[1;32m    460\u001b[0m     \u001b[39mreturn\u001b[39;00m retval\n\u001b[1;32m    462\u001b[0m \u001b[39mif\u001b[39;00m weight \u001b[39mis\u001b[39;00m \u001b[39mNone\u001b[39;00m:\n\u001b[0;32m--> 463\u001b[0m     retval \u001b[39m=\u001b[39m _quad(func, a, b, args, full_output, epsabs, epsrel, limit,\n\u001b[1;32m    464\u001b[0m                    points)\n\u001b[1;32m    465\u001b[0m \u001b[39melse\u001b[39;00m:\n\u001b[1;32m    466\u001b[0m     \u001b[39mif\u001b[39;00m points \u001b[39mis\u001b[39;00m \u001b[39mnot\u001b[39;00m \u001b[39mNone\u001b[39;00m:\n",
      "File \u001b[0;32m/Library/Frameworks/Python.framework/Versions/3.9/lib/python3.9/site-packages/scipy/integrate/_quadpack_py.py:575\u001b[0m, in \u001b[0;36m_quad\u001b[0;34m(func, a, b, args, full_output, epsabs, epsrel, limit, points)\u001b[0m\n\u001b[1;32m    573\u001b[0m \u001b[39mif\u001b[39;00m points \u001b[39mis\u001b[39;00m \u001b[39mNone\u001b[39;00m:\n\u001b[1;32m    574\u001b[0m     \u001b[39mif\u001b[39;00m infbounds \u001b[39m==\u001b[39m \u001b[39m0\u001b[39m:\n\u001b[0;32m--> 575\u001b[0m         \u001b[39mreturn\u001b[39;00m _quadpack\u001b[39m.\u001b[39;49m_qagse(func,a,b,args,full_output,epsabs,epsrel,limit)\n\u001b[1;32m    576\u001b[0m     \u001b[39melse\u001b[39;00m:\n\u001b[1;32m    577\u001b[0m         \u001b[39mreturn\u001b[39;00m _quadpack\u001b[39m.\u001b[39m_qagie(func,bound,infbounds,args,full_output,epsabs,epsrel,limit)\n",
      "File \u001b[0;32m/Library/Frameworks/Python.framework/Versions/3.9/lib/python3.9/site-packages/scipy/integrate/_quadpack_py.py:1225\u001b[0m, in \u001b[0;36m_NQuad.integrate\u001b[0;34m(self, *args, **kwargs)\u001b[0m\n\u001b[1;32m   1223\u001b[0m \u001b[39melse\u001b[39;00m:\n\u001b[1;32m   1224\u001b[0m     f \u001b[39m=\u001b[39m partial(\u001b[39mself\u001b[39m\u001b[39m.\u001b[39mintegrate, depth\u001b[39m=\u001b[39mdepth\u001b[39m+\u001b[39m\u001b[39m1\u001b[39m)\n\u001b[0;32m-> 1225\u001b[0m quad_r \u001b[39m=\u001b[39m quad(f, low, high, args\u001b[39m=\u001b[39;49margs, full_output\u001b[39m=\u001b[39;49m\u001b[39mself\u001b[39;49m\u001b[39m.\u001b[39;49mfull_output,\n\u001b[1;32m   1226\u001b[0m               \u001b[39m*\u001b[39;49m\u001b[39m*\u001b[39;49mopt)\n\u001b[1;32m   1227\u001b[0m value \u001b[39m=\u001b[39m quad_r[\u001b[39m0\u001b[39m]\n\u001b[1;32m   1228\u001b[0m abserr \u001b[39m=\u001b[39m quad_r[\u001b[39m1\u001b[39m]\n",
      "File \u001b[0;32m/Library/Frameworks/Python.framework/Versions/3.9/lib/python3.9/site-packages/scipy/integrate/_quadpack_py.py:463\u001b[0m, in \u001b[0;36mquad\u001b[0;34m(func, a, b, args, full_output, epsabs, epsrel, limit, points, weight, wvar, wopts, maxp1, limlst, complex_func)\u001b[0m\n\u001b[1;32m    460\u001b[0m     \u001b[39mreturn\u001b[39;00m retval\n\u001b[1;32m    462\u001b[0m \u001b[39mif\u001b[39;00m weight \u001b[39mis\u001b[39;00m \u001b[39mNone\u001b[39;00m:\n\u001b[0;32m--> 463\u001b[0m     retval \u001b[39m=\u001b[39m _quad(func, a, b, args, full_output, epsabs, epsrel, limit,\n\u001b[1;32m    464\u001b[0m                    points)\n\u001b[1;32m    465\u001b[0m \u001b[39melse\u001b[39;00m:\n\u001b[1;32m    466\u001b[0m     \u001b[39mif\u001b[39;00m points \u001b[39mis\u001b[39;00m \u001b[39mnot\u001b[39;00m \u001b[39mNone\u001b[39;00m:\n",
      "File \u001b[0;32m/Library/Frameworks/Python.framework/Versions/3.9/lib/python3.9/site-packages/scipy/integrate/_quadpack_py.py:575\u001b[0m, in \u001b[0;36m_quad\u001b[0;34m(func, a, b, args, full_output, epsabs, epsrel, limit, points)\u001b[0m\n\u001b[1;32m    573\u001b[0m \u001b[39mif\u001b[39;00m points \u001b[39mis\u001b[39;00m \u001b[39mNone\u001b[39;00m:\n\u001b[1;32m    574\u001b[0m     \u001b[39mif\u001b[39;00m infbounds \u001b[39m==\u001b[39m \u001b[39m0\u001b[39m:\n\u001b[0;32m--> 575\u001b[0m         \u001b[39mreturn\u001b[39;00m _quadpack\u001b[39m.\u001b[39;49m_qagse(func,a,b,args,full_output,epsabs,epsrel,limit)\n\u001b[1;32m    576\u001b[0m     \u001b[39melse\u001b[39;00m:\n\u001b[1;32m    577\u001b[0m         \u001b[39mreturn\u001b[39;00m _quadpack\u001b[39m.\u001b[39m_qagie(func,bound,infbounds,args,full_output,epsabs,epsrel,limit)\n",
      "File \u001b[0;32m/Library/Frameworks/Python.framework/Versions/3.9/lib/python3.9/site-packages/scipy/integrate/_quadpack_py.py:1225\u001b[0m, in \u001b[0;36m_NQuad.integrate\u001b[0;34m(self, *args, **kwargs)\u001b[0m\n\u001b[1;32m   1223\u001b[0m \u001b[39melse\u001b[39;00m:\n\u001b[1;32m   1224\u001b[0m     f \u001b[39m=\u001b[39m partial(\u001b[39mself\u001b[39m\u001b[39m.\u001b[39mintegrate, depth\u001b[39m=\u001b[39mdepth\u001b[39m+\u001b[39m\u001b[39m1\u001b[39m)\n\u001b[0;32m-> 1225\u001b[0m quad_r \u001b[39m=\u001b[39m quad(f, low, high, args\u001b[39m=\u001b[39;49margs, full_output\u001b[39m=\u001b[39;49m\u001b[39mself\u001b[39;49m\u001b[39m.\u001b[39;49mfull_output,\n\u001b[1;32m   1226\u001b[0m               \u001b[39m*\u001b[39;49m\u001b[39m*\u001b[39;49mopt)\n\u001b[1;32m   1227\u001b[0m value \u001b[39m=\u001b[39m quad_r[\u001b[39m0\u001b[39m]\n\u001b[1;32m   1228\u001b[0m abserr \u001b[39m=\u001b[39m quad_r[\u001b[39m1\u001b[39m]\n",
      "File \u001b[0;32m/Library/Frameworks/Python.framework/Versions/3.9/lib/python3.9/site-packages/scipy/integrate/_quadpack_py.py:463\u001b[0m, in \u001b[0;36mquad\u001b[0;34m(func, a, b, args, full_output, epsabs, epsrel, limit, points, weight, wvar, wopts, maxp1, limlst, complex_func)\u001b[0m\n\u001b[1;32m    460\u001b[0m     \u001b[39mreturn\u001b[39;00m retval\n\u001b[1;32m    462\u001b[0m \u001b[39mif\u001b[39;00m weight \u001b[39mis\u001b[39;00m \u001b[39mNone\u001b[39;00m:\n\u001b[0;32m--> 463\u001b[0m     retval \u001b[39m=\u001b[39m _quad(func, a, b, args, full_output, epsabs, epsrel, limit,\n\u001b[1;32m    464\u001b[0m                    points)\n\u001b[1;32m    465\u001b[0m \u001b[39melse\u001b[39;00m:\n\u001b[1;32m    466\u001b[0m     \u001b[39mif\u001b[39;00m points \u001b[39mis\u001b[39;00m \u001b[39mnot\u001b[39;00m \u001b[39mNone\u001b[39;00m:\n",
      "File \u001b[0;32m/Library/Frameworks/Python.framework/Versions/3.9/lib/python3.9/site-packages/scipy/integrate/_quadpack_py.py:575\u001b[0m, in \u001b[0;36m_quad\u001b[0;34m(func, a, b, args, full_output, epsabs, epsrel, limit, points)\u001b[0m\n\u001b[1;32m    573\u001b[0m \u001b[39mif\u001b[39;00m points \u001b[39mis\u001b[39;00m \u001b[39mNone\u001b[39;00m:\n\u001b[1;32m    574\u001b[0m     \u001b[39mif\u001b[39;00m infbounds \u001b[39m==\u001b[39m \u001b[39m0\u001b[39m:\n\u001b[0;32m--> 575\u001b[0m         \u001b[39mreturn\u001b[39;00m _quadpack\u001b[39m.\u001b[39;49m_qagse(func,a,b,args,full_output,epsabs,epsrel,limit)\n\u001b[1;32m    576\u001b[0m     \u001b[39melse\u001b[39;00m:\n\u001b[1;32m    577\u001b[0m         \u001b[39mreturn\u001b[39;00m _quadpack\u001b[39m.\u001b[39m_qagie(func,bound,infbounds,args,full_output,epsabs,epsrel,limit)\n",
      "\u001b[1;32m/Users/nataliamunoz/Desktop/trial-hypcoord/Untitled-1.ipynb Cell 3\u001b[0m line \u001b[0;36m2\n\u001b[1;32m     <a href='vscode-notebook-cell:/Users/nataliamunoz/Desktop/trial-hypcoord/Untitled-1.ipynb#W2sZmlsZQ%3D%3D?line=21'>22</a>\u001b[0m \u001b[39mfor\u001b[39;00m gamma \u001b[39min\u001b[39;00m gamma_values:\n\u001b[1;32m     <a href='vscode-notebook-cell:/Users/nataliamunoz/Desktop/trial-hypcoord/Untitled-1.ipynb#W2sZmlsZQ%3D%3D?line=22'>23</a>\u001b[0m     \u001b[39mfor\u001b[39;00m epsilon \u001b[39min\u001b[39;00m epsilon_values:\n\u001b[1;32m     <a href='vscode-notebook-cell:/Users/nataliamunoz/Desktop/trial-hypcoord/Untitled-1.ipynb#W2sZmlsZQ%3D%3D?line=23'>24</a>\u001b[0m         \u001b[39m# Define el integrando como una función de x, y, z\u001b[39;00m\n\u001b[0;32m---> <a href='vscode-notebook-cell:/Users/nataliamunoz/Desktop/trial-hypcoord/Untitled-1.ipynb#W2sZmlsZQ%3D%3D?line=24'>25</a>\u001b[0m         integrand \u001b[39m=\u001b[39m \u001b[39mlambda\u001b[39;00m x, y, z: H(x, y, z, alpha, beta, gamma, epsilon) \u001b[39m*\u001b[39m x\u001b[39m*\u001b[39m\u001b[39m*\u001b[39m\u001b[39m5\u001b[39m \u001b[39m*\u001b[39m (\u001b[39m1\u001b[39m\u001b[39m/\u001b[39m\u001b[39m8\u001b[39m) \u001b[39m*\u001b[39m (math\u001b[39m.\u001b[39mcos(y\u001b[39m/\u001b[39m\u001b[39m2\u001b[39m)\u001b[39m*\u001b[39mmath\u001b[39m.\u001b[39msin(y\u001b[39m/\u001b[39m\u001b[39m2\u001b[39m))\u001b[39m*\u001b[39m\u001b[39m*\u001b[39m\u001b[39m2\u001b[39m\n\u001b[1;32m     <a href='vscode-notebook-cell:/Users/nataliamunoz/Desktop/trial-hypcoord/Untitled-1.ipynb#W2sZmlsZQ%3D%3D?line=26'>27</a>\u001b[0m         \u001b[39m# Realiza la integral triple\u001b[39;00m\n\u001b[1;32m     <a href='vscode-notebook-cell:/Users/nataliamunoz/Desktop/trial-hypcoord/Untitled-1.ipynb#W2sZmlsZQ%3D%3D?line=27'>28</a>\u001b[0m         integral, _ \u001b[39m=\u001b[39m integrate\u001b[39m.\u001b[39mnquad(integrand, [[\u001b[39m0\u001b[39m, \u001b[39m1\u001b[39m], [\u001b[39m0\u001b[39m, \u001b[39m1\u001b[39m], [\u001b[39m0\u001b[39m, \u001b[39m1\u001b[39m]])\n",
      "\u001b[1;32m/Users/nataliamunoz/Desktop/trial-hypcoord/Untitled-1.ipynb Cell 3\u001b[0m line \u001b[0;36m1\n\u001b[1;32m      <a href='vscode-notebook-cell:/Users/nataliamunoz/Desktop/trial-hypcoord/Untitled-1.ipynb#W2sZmlsZQ%3D%3D?line=5'>6</a>\u001b[0m \u001b[39mdef\u001b[39;00m \u001b[39mH\u001b[39m(x, y, z, alpha, beta, gamma, epsilon):\n\u001b[1;32m      <a href='vscode-notebook-cell:/Users/nataliamunoz/Desktop/trial-hypcoord/Untitled-1.ipynb#W2sZmlsZQ%3D%3D?line=6'>7</a>\u001b[0m     \u001b[39m# Define tu función G(x, y, z, alpha, beta, gamma, epsilon) aquí\u001b[39;00m\n\u001b[1;32m      <a href='vscode-notebook-cell:/Users/nataliamunoz/Desktop/trial-hypcoord/Untitled-1.ipynb#W2sZmlsZQ%3D%3D?line=7'>8</a>\u001b[0m     \u001b[39m# Por ejemplo: return alpha * x + beta * y + gamma * z + epsilon\u001b[39;00m\n\u001b[1;32m      <a href='vscode-notebook-cell:/Users/nataliamunoz/Desktop/trial-hypcoord/Untitled-1.ipynb#W2sZmlsZQ%3D%3D?line=8'>9</a>\u001b[0m     \u001b[39m# Modifica esto según tu función real.\u001b[39;00m\n\u001b[0;32m---> <a href='vscode-notebook-cell:/Users/nataliamunoz/Desktop/trial-hypcoord/Untitled-1.ipynb#W2sZmlsZQ%3D%3D?line=10'>11</a>\u001b[0m     \u001b[39mreturn\u001b[39;00m (np\u001b[39m.\u001b[39;49mexp(\u001b[39m-\u001b[39;49malpha \u001b[39m*\u001b[39;49m x\u001b[39m*\u001b[39;49m\u001b[39m*\u001b[39;49m\u001b[39m2\u001b[39;49m) \u001b[39m*\u001b[39m (math\u001b[39m.\u001b[39mcos(z\u001b[39m-\u001b[39mbeta)\u001b[39m+\u001b[39m math\u001b[39m.\u001b[39mcos(beta)\u001b[39m+\u001b[39m gamma) \u001b[39m*\u001b[39m (math\u001b[39m.\u001b[39msin(y) \u001b[39m+\u001b[39m epsilon))\n",
      "\u001b[0;31mKeyboardInterrupt\u001b[0m: "
     ]
    }
   ],
   "source": [
    "import numpy as np\n",
    "from scipy import integrate\n",
    "from scipy.optimize import minimize\n",
    "import math\n",
    "\n",
    "def H(x, y, z, alpha, beta, gamma, epsilon):\n",
    "    # Define tu función G(x, y, z, alpha, beta, gamma, epsilon) aquí\n",
    "    # Por ejemplo: return alpha * x + beta * y + gamma * z + epsilon\n",
    "    # Modifica esto según tu función real.\n",
    "\n",
    "    return (np.exp(-alpha * x**2) * (math.cos(z-beta)+ math.cos(beta)+ gamma) * (math.sin(y) + epsilon))\n",
    "\n",
    "def triple_integral(alpha_values, beta_values, gamma_values, epsilon_values):\n",
    "    min_integral = float('inf')\n",
    "    min_alpha = None\n",
    "    min_beta = None\n",
    "    min_gamma = None\n",
    "    min_epsilon = None\n",
    "\n",
    "    for alpha in alpha_values:\n",
    "        for beta in beta_values:\n",
    "            for gamma in gamma_values:\n",
    "                for epsilon in epsilon_values:\n",
    "                    # Define el integrando como una función de x, y, z\n",
    "                    integrand = lambda x, y, z: H(x, y, z, alpha, beta, gamma, epsilon) * x**5 * (1/8) * (math.cos(y/2)*math.sin(y/2))**2\n",
    "\n",
    "                    # Realiza la integral triple\n",
    "                    integral, _ = integrate.nquad(integrand, [[0, 1], [0, 1], [0, 1]])\n",
    "\n",
    "                    # Actualiza el mínimo si se encuentra una integral más pequeña\n",
    "                    if integral < min_integral:\n",
    "                        min_integral = integral\n",
    "                        min_alpha = alpha\n",
    "                        min_beta = beta\n",
    "                        min_gamma = gamma\n",
    "                        min_epsilon = epsilon\n",
    "\n",
    "    return min_alpha, min_beta, min_gamma, min_epsilon, min_integral\n",
    "\n",
    "# Define arrays of alpha, beta, gamma, and epsilon values\n",
    "alpha_values = np.linspace(0.1, 10.0, 20)\n",
    "beta_values = np.linspace(0.1, 10.0, 20)\n",
    "gamma_values = np.linspace(-10.0, 10.0, 20)\n",
    "epsilon_values = np.linspace(-10.0, 10.0, 20)\n",
    "\n",
    "# Calcula la integral triple mínima y los valores correspondientes de alpha, beta, gamma, y epsilon\n",
    "min_alpha, min_beta, min_gamma, min_epsilon, min_integral = triple_integral(alpha_values, beta_values, gamma_values, epsilon_values)\n",
    "\n",
    "print(\"Integral Mínima:\", min_integral)\n",
    "print(\"Alpha Correspondiente:\", min_alpha)\n",
    "print(\"Beta Correspondiente:\", min_beta)\n",
    "print(\"Gamma Correspondiente:\", min_gamma)\n",
    "print(\"Epsilon Correspondiente:\", min_epsilon)"
   ]
  },
  {
   "cell_type": "code",
   "execution_count": null,
   "metadata": {},
   "outputs": [],
   "source": []
  }
 ],
 "metadata": {
  "kernelspec": {
   "display_name": "Python 3",
   "language": "python",
   "name": "python3"
  },
  "language_info": {
   "codemirror_mode": {
    "name": "ipython",
    "version": 3
   },
   "file_extension": ".py",
   "mimetype": "text/x-python",
   "name": "python",
   "nbconvert_exporter": "python",
   "pygments_lexer": "ipython3",
   "version": "3.9.6"
  },
  "orig_nbformat": 4
 },
 "nbformat": 4,
 "nbformat_minor": 2
}
